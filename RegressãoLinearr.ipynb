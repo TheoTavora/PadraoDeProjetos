{
  "nbformat": 4,
  "nbformat_minor": 0,
  "metadata": {
    "colab": {
      "provenance": [],
      "include_colab_link": true
    },
    "kernelspec": {
      "name": "python3",
      "display_name": "Python 3"
    },
    "language_info": {
      "name": "python"
    }
  },
  "cells": [
    {
      "cell_type": "markdown",
      "metadata": {
        "id": "view-in-github",
        "colab_type": "text"
      },
      "source": [
        "<a href=\"https://colab.research.google.com/github/TheoTavora/PadraoDeProjetos/blob/main/Regress%C3%A3oLinearr.ipynb\" target=\"_parent\"><img src=\"https://colab.research.google.com/assets/colab-badge.svg\" alt=\"Open In Colab\"/></a>"
      ]
    },
    {
      "cell_type": "markdown",
      "source": [
        "Importar bibliotecas"
      ],
      "metadata": {
        "id": "KV933VQgJNf0"
      }
    },
    {
      "cell_type": "code",
      "execution_count": 5,
      "metadata": {
        "id": "zh56iS0aGMBk"
      },
      "outputs": [],
      "source": [
        "from matplotlib import pyplot as plt\n",
        "import pandas as pd\n",
        "import pylab as pl\n",
        "import numpy as np\n",
        "from sklearn import linear_model\n",
        "from sklearn.metrics import r2_score, mean_squared_error,mean_absolute_error\n",
        "from sklearn.model_selection import train_test_split\n",
        "from math import sqrt"
      ]
    },
    {
      "cell_type": "markdown",
      "source": [
        "Download do dataset"
      ],
      "metadata": {
        "id": "qdk9K8ppJWv4"
      }
    },
    {
      "cell_type": "markdown",
      "source": [
        "Carregar o dataset para um Dataframe"
      ],
      "metadata": {
        "id": "vqhD66imJsRl"
      }
    },
    {
      "cell_type": "code",
      "source": [
        "#cria um dataset chamado 'df' que receberá os dados do csv\n",
        "df = pd.read_excel(\"ARQUIVOTESTE.xlsx\")\n",
        "#exibe a estrutura o dataframe\n",
        "print(df.head())"
      ],
      "metadata": {
        "colab": {
          "base_uri": "https://localhost:8080/"
        },
        "id": "hm07PiBCJr9v",
        "outputId": "b6aa8b15-9bf2-4f8c-e5a3-8c06577c67bf"
      },
      "execution_count": 6,
      "outputs": [
        {
          "output_type": "stream",
          "name": "stdout",
          "text": [
            "   Casa  Área (m²)  Preço (R$)  Quarto  Banheiro  Idade (anos) Localização  \\\n",
            "0     1        100      500000       3         2            10      Centro   \n",
            "1     2        120      600000       2         1             5    Zona Sul   \n",
            "2     3        150      800000       4         3            20  Zona Norte   \n",
            "3     4        180     1000000       5         4            30      Centro   \n",
            "4     5        220     1200000       4         2            15  Zona Oeste   \n",
            "\n",
            "    Condição  \n",
            "0        Boa  \n",
            "1       Nova  \n",
            "2  Reformada  \n",
            "3      Ótima  \n",
            "4        Boa  \n"
          ]
        }
      ]
    },
    {
      "cell_type": "markdown",
      "source": [
        "Resumo"
      ],
      "metadata": {
        "id": "ypgGuPeXK9b1"
      }
    },
    {
      "cell_type": "code",
      "source": [
        "print(df.describe())"
      ],
      "metadata": {
        "colab": {
          "base_uri": "https://localhost:8080/"
        },
        "id": "nd1nohUdK8bV",
        "outputId": "aa69b0c6-eb08-4391-e116-661a01d91356"
      },
      "execution_count": 7,
      "outputs": [
        {
          "output_type": "stream",
          "name": "stdout",
          "text": [
            "           Casa   Área (m²)    Preço (R$)     Quarto   Banheiro  Idade (anos)\n",
            "count  50.00000   50.000000  5.000000e+01  50.000000  50.000000     50.000000\n",
            "mean   25.50000  305.720000  2.020400e+06   4.620000   2.860000     17.520000\n",
            "std    14.57738  174.604514  1.209275e+06   1.323107   1.030356      8.119616\n",
            "min     1.00000   85.000000  5.000000e+05   2.000000   1.000000      4.000000\n",
            "25%    13.25000  146.250000  8.475000e+05   4.000000   2.000000     10.250000\n",
            "50%    25.50000  270.000000  1.895000e+06   5.000000   3.000000     16.500000\n",
            "75%    37.75000  480.000000  3.175000e+06   6.000000   4.000000     22.750000\n",
            "max    50.00000  570.000000  3.800000e+06   7.000000   5.000000     40.000000\n"
          ]
        }
      ]
    },
    {
      "cell_type": "markdown",
      "source": [
        "Selecionar features do motor co2"
      ],
      "metadata": {
        "id": "yQI8JZ49L3yO"
      }
    },
    {
      "cell_type": "code",
      "source": [
        "area = df[['Área (m²)']]\n",
        "preco = df[['Preço (R$)']]\n",
        "print(area.head())\n",
        "print(preco.head)"
      ],
      "metadata": {
        "colab": {
          "base_uri": "https://localhost:8080/"
        },
        "id": "nVXGepkwL3iU",
        "outputId": "9a6f09b7-ab96-4ef5-a320-a6b3537addfd"
      },
      "execution_count": 8,
      "outputs": [
        {
          "output_type": "stream",
          "name": "stdout",
          "text": [
            "   Área (m²)\n",
            "0        100\n",
            "1        120\n",
            "2        150\n",
            "3        180\n",
            "4        220\n",
            "<bound method NDFrame.head of     Preço (R$)\n",
            "0       500000\n",
            "1       600000\n",
            "2       800000\n",
            "3      1000000\n",
            "4      1200000\n",
            "5      2500000\n",
            "6      2700000\n",
            "7      2900000\n",
            "8      3100000\n",
            "9      3300000\n",
            "10      500000\n",
            "11      630000\n",
            "12      820000\n",
            "13     1000000\n",
            "14     1200000\n",
            "15     2700000\n",
            "16     2900000\n",
            "17     3100000\n",
            "18     3300000\n",
            "19     3500000\n",
            "20      550000\n",
            "21      680000\n",
            "22      870000\n",
            "23     1070000\n",
            "24     1270000\n",
            "25     2800000\n",
            "26     3000000\n",
            "27     3200000\n",
            "28     3400000\n",
            "29     3600000\n",
            "30      520000\n",
            "31      650000\n",
            "32      840000\n",
            "33     1040000\n",
            "34     1240000\n",
            "35     2900000\n",
            "36     3100000\n",
            "37     3300000\n",
            "38     3500000\n",
            "39     3700000\n",
            "40      570000\n",
            "41      700000\n",
            "42      890000\n",
            "43     1090000\n",
            "44     1290000\n",
            "45     3000000\n",
            "46     3200000\n",
            "47     3400000\n",
            "48     3600000\n",
            "49     3800000>\n"
          ]
        }
      ]
    },
    {
      "cell_type": "markdown",
      "source": [
        "Dividir o dataset em teste e treino"
      ],
      "metadata": {
        "id": "ZkjTkv-QNTKx"
      }
    },
    {
      "cell_type": "code",
      "source": [
        "motores_treino, motores_test, co2_treino, co2_teste = train_test_split(motores, co2, test_size=0.2, random_state=42)\n",
        "print(type(motores_treino))"
      ],
      "metadata": {
        "colab": {
          "base_uri": "https://localhost:8080/"
        },
        "id": "NdJ0eiKrNS91",
        "outputId": "230897b1-e54f-4333-9cfa-b97b774264f3"
      },
      "execution_count": null,
      "outputs": [
        {
          "output_type": "stream",
          "name": "stdout",
          "text": [
            "<class 'pandas.core.frame.DataFrame'>\n"
          ]
        }
      ]
    },
    {
      "cell_type": "markdown",
      "source": [
        "Exibir a correlação entre features do dataset de treinamento"
      ],
      "metadata": {
        "id": "HAybN7LLOZRB"
      }
    },
    {
      "cell_type": "code",
      "source": [
        "plt.scatter(motores_treino, co2_treino, color='red')\n",
        "plt.xlabel(\"Motor\")\n",
        "plt.ylabel(\"Emissão de CO2\")\n",
        "plt.show()"
      ],
      "metadata": {
        "colab": {
          "base_uri": "https://localhost:8080/",
          "height": 449
        },
        "id": "CrSwRoUhOYj-",
        "outputId": "7d636379-8f00-483f-b6ed-91986e51ceb3"
      },
      "execution_count": null,
      "outputs": [
        {
          "output_type": "display_data",
          "data": {
            "text/plain": [
              "<Figure size 640x480 with 1 Axes>"
            ],
            "image/png": "[encoded data removed]"
          },
          "metadata": {}
        }
      ]
    },
    {
      "cell_type": "markdown",
      "source": [
        "Treinar modelo de regressão linear"
      ],
      "metadata": {
        "id": "S1UHK5BHQgPU"
      }
    },
    {
      "cell_type": "code",
      "source": [
        "# CRIAR UM MODELO DE TIPO DE REGRESSÃO LINEAR\n",
        "modelo = linear_model.LinearRegression()\n",
        "\n",
        "# TREINAR MODELO COM DATASET DE TREINO\n",
        "# PARA ENCONTRAR VALOR DE A E B (Y = A + B.X)\n",
        "modelo.fit(motores_treino, co2_treino)"
      ],
      "metadata": {
        "colab": {
          "base_uri": "https://localhost:8080/",
          "height": 74
        },
        "id": "_yX2Abr9QgB5",
        "outputId": "abdfa053-14e4-45a7-d55e-3914e808063a"
      },
      "execution_count": null,
      "outputs": [
        {
          "output_type": "execute_result",
          "data": {
            "text/plain": [
              "LinearRegression()"
            ],
            "text/html": [
              "<style>#sk-container-id-2 {color: black;background-color: white;}#sk-container-id-2 pre{padding: 0;}#sk-container-id-2 div.sk-toggleable {background-color: white;}#sk-container-id-2 label.sk-toggleable__label {cursor: pointer;display: block;width: 100%;margin-bottom: 0;padding: 0.3em;box-sizing: border-box;text-align: center;}#sk-container-id-2 label.sk-toggleable__label-arrow:before {content: \"▸\";float: left;margin-right: 0.25em;color: #696969;}#sk-container-id-2 label.sk-toggleable__label-arrow:hover:before {color: black;}#sk-container-id-2 div.sk-estimator:hover label.sk-toggleable__label-arrow:before {color: black;}#sk-container-id-2 div.sk-toggleable__content {max-height: 0;max-width: 0;overflow: hidden;text-align: left;background-color: #f0f8ff;}#sk-container-id-2 div.sk-toggleable__content pre {margin: 0.2em;color: black;border-radius: 0.25em;background-color: #f0f8ff;}#sk-container-id-2 input.sk-toggleable__control:checked~div.sk-toggleable__content {max-height: 200px;max-width: 100%;overflow: auto;}#sk-container-id-2 input.sk-toggleable__control:checked~label.sk-toggleable__label-arrow:before {content: \"▾\";}#sk-container-id-2 div.sk-estimator input.sk-toggleable__control:checked~label.sk-toggleable__label {background-color: #d4ebff;}#sk-container-id-2 div.sk-label input.sk-toggleable__control:checked~label.sk-toggleable__label {background-color: #d4ebff;}#sk-container-id-2 input.sk-hidden--visually {border: 0;clip: rect(1px 1px 1px 1px);clip: rect(1px, 1px, 1px, 1px);height: 1px;margin: -1px;overflow: hidden;padding: 0;position: absolute;width: 1px;}#sk-container-id-2 div.sk-estimator {font-family: monospace;background-color: #f0f8ff;border: 1px dotted black;border-radius: 0.25em;box-sizing: border-box;margin-bottom: 0.5em;}#sk-container-id-2 div.sk-estimator:hover {background-color: #d4ebff;}#sk-container-id-2 div.sk-parallel-item::after {content: \"\";width: 100%;border-bottom: 1px solid gray;flex-grow: 1;}#sk-container-id-2 div.sk-label:hover label.sk-toggleable__label {background-color: #d4ebff;}#sk-container-id-2 div.sk-serial::before {content: \"\";position: absolute;border-left: 1px solid gray;box-sizing: border-box;top: 0;bottom: 0;left: 50%;z-index: 0;}#sk-container-id-2 div.sk-serial {display: flex;flex-direction: column;align-items: center;background-color: white;padding-right: 0.2em;padding-left: 0.2em;position: relative;}#sk-container-id-2 div.sk-item {position: relative;z-index: 1;}#sk-container-id-2 div.sk-parallel {display: flex;align-items: stretch;justify-content: center;background-color: white;position: relative;}#sk-container-id-2 div.sk-item::before, #sk-container-id-2 div.sk-parallel-item::before {content: \"\";position: absolute;border-left: 1px solid gray;box-sizing: border-box;top: 0;bottom: 0;left: 50%;z-index: -1;}#sk-container-id-2 div.sk-parallel-item {display: flex;flex-direction: column;z-index: 1;position: relative;background-color: white;}#sk-container-id-2 div.sk-parallel-item:first-child::after {align-self: flex-end;width: 50%;}#sk-container-id-2 div.sk-parallel-item:last-child::after {align-self: flex-start;width: 50%;}#sk-container-id-2 div.sk-parallel-item:only-child::after {width: 0;}#sk-container-id-2 div.sk-dashed-wrapped {border: 1px dashed gray;margin: 0 0.4em 0.5em 0.4em;box-sizing: border-box;padding-bottom: 0.4em;background-color: white;}#sk-container-id-2 div.sk-label label {font-family: monospace;font-weight: bold;display: inline-block;line-height: 1.2em;}#sk-container-id-2 div.sk-label-container {text-align: center;}#sk-container-id-2 div.sk-container {/* jupyter's `normalize.less` sets `[hidden] { display: none; }` but bootstrap.min.css set `[hidden] { display: none !important; }` so we also need the `!important` here to be able to override the default hidden behavior on the sphinx rendered scikit-learn.org. See: https://github.com/scikit-learn/scikit-learn/issues/21755 */display: inline-block !important;position: relative;}#sk-container-id-2 div.sk-text-repr-fallback {display: none;}</style><div id=\"sk-container-id-2\" class=\"sk-top-container\"><div class=\"sk-text-repr-fallback\"><pre>LinearRegression()</pre><b>In a Jupyter environment, please rerun this cell to show the HTML representation or trust the notebook. <br />On GitHub, the HTML representation is unable to render, please try loading this page with nbviewer.org.</b></div><div class=\"sk-container\" hidden><div class=\"sk-item\"><div class=\"sk-estimator sk-toggleable\"><input class=\"sk-toggleable__control sk-hidden--visually\" id=\"sk-estimator-id-2\" type=\"checkbox\" checked><label for=\"sk-estimator-id-2\" class=\"sk-toggleable__label sk-toggleable__label-arrow\">LinearRegression</label><div class=\"sk-toggleable__content\"><pre>LinearRegression()</pre></div></div></div></div></div>"
            ]
          },
          "metadata": {},
          "execution_count": 17
        }
      ]
    },
    {
      "cell_type": "markdown",
      "source": [
        "Exibir coeficientes (A e B)"
      ],
      "metadata": {
        "id": "jvEOv8yQTI4X"
      }
    },
    {
      "cell_type": "code",
      "source": [
        "print('(A) Intercepto: ', modelo.intercept_)\n",
        "print('(B) Inclinação: ', modelo.coef_)"
      ],
      "metadata": {
        "colab": {
          "base_uri": "https://localhost:8080/"
        },
        "id": "dY2KwGqqTIN-",
        "outputId": "f1c41d17-fde0-4683-c8f2-da8d9c2b1b11"
      },
      "execution_count": null,
      "outputs": [
        {
          "output_type": "stream",
          "name": "stdout",
          "text": [
            "(A) Intercepto:  [126.28970217]\n",
            "(B) Inclinação:  [[38.99297872]]\n"
          ]
        }
      ]
    },
    {
      "cell_type": "markdown",
      "source": [
        "Exibir reta de regressão no dataset de treino"
      ],
      "metadata": {
        "id": "dfq0L4zUTgen"
      }
    },
    {
      "cell_type": "code",
      "source": [
        "plt.scatter(motores_treino, co2_treino, color='pink')\n",
        "plt.plot(motores_treino, modelo.coef_[0][0]*motores_treino + modelo.intercept_[0], '-r')\n",
        "plt.xlabel(\"Emissão de CO2\")\n",
        "plt.xlabel(\"Motores\")\n",
        "plt.show()"
      ],
      "metadata": {
        "colab": {
          "base_uri": "https://localhost:8080/",
          "height": 449
        },
        "id": "mwlDRD75TgUB",
        "outputId": "c78ef875-fbce-4030-aaaf-25ee864b2660"
      },
      "execution_count": null,
      "outputs": [
        {
          "output_type": "display_data",
          "data": {
            "text/plain": [
              "<Figure size 640x480 with 1 Axes>"
            ],
            "image/png": "[encoded data removed]"
          },
          "metadata": {}
        }
      ]
    },
    {
      "cell_type": "markdown",
      "source": [
        "Executar o modelo no dataset de teste"
      ],
      "metadata": {
        "id": "juqetwvJURSV"
      }
    },
    {
      "cell_type": "code",
      "source": [
        "predicoesCo2 = modelo.predict(motores_test)"
      ],
      "metadata": {
        "id": "gdeOIUMBURJd"
      },
      "execution_count": null,
      "outputs": []
    },
    {
      "cell_type": "markdown",
      "source": [
        "Exibir reta de regressão no dataset de teste"
      ],
      "metadata": {
        "id": "k8qfttQEU3nd"
      }
    },
    {
      "cell_type": "code",
      "source": [
        "plt.scatter(motores_test, co2_teste, color='pink')\n",
        "plt.plot(motores_test, modelo.coef_[0][0]*motores_test + modelo.intercept_[0], '-r')\n",
        "plt.xlabel(\"Emissão de CO2\")\n",
        "plt.xlabel(\"Motores\")\n",
        "plt.show()"
      ],
      "metadata": {
        "colab": {
          "base_uri": "https://localhost:8080/",
          "height": 211
        },
        "id": "8ZrI73EDVCsq",
        "outputId": "f866d5d2-5a0c-4757-abf1-6d00422a2e4b"
      },
      "execution_count": null,
      "outputs": [
        {
          "output_type": "error",
          "ename": "NameError",
          "evalue": "name 'plt' is not defined",
          "traceback": [
            "\u001b[0;31m---------------------------------------------------------------------------\u001b[0m",
            "\u001b[0;31mNameError\u001b[0m                                 Traceback (most recent call last)",
            "\u001b[0;32m<ipython-input-2-71fe8839bfa3>\u001b[0m in \u001b[0;36m<cell line: 1>\u001b[0;34m()\u001b[0m\n\u001b[0;32m----> 1\u001b[0;31m \u001b[0mplt\u001b[0m\u001b[0;34m.\u001b[0m\u001b[0mscatter\u001b[0m\u001b[0;34m(\u001b[0m\u001b[0mmotores_test\u001b[0m\u001b[0;34m,\u001b[0m \u001b[0mco2_teste\u001b[0m\u001b[0;34m,\u001b[0m \u001b[0mcolor\u001b[0m\u001b[0;34m=\u001b[0m\u001b[0;34m'pink'\u001b[0m\u001b[0;34m)\u001b[0m\u001b[0;34m\u001b[0m\u001b[0;34m\u001b[0m\u001b[0m\n\u001b[0m\u001b[1;32m      2\u001b[0m \u001b[0mplt\u001b[0m\u001b[0;34m.\u001b[0m\u001b[0mplot\u001b[0m\u001b[0;34m(\u001b[0m\u001b[0mmotores_test\u001b[0m\u001b[0;34m,\u001b[0m \u001b[0mmodelo\u001b[0m\u001b[0;34m.\u001b[0m\u001b[0mcoef_\u001b[0m\u001b[0;34m[\u001b[0m\u001b[0;36m0\u001b[0m\u001b[0;34m]\u001b[0m\u001b[0;34m[\u001b[0m\u001b[0;36m0\u001b[0m\u001b[0;34m]\u001b[0m\u001b[0;34m*\u001b[0m\u001b[0mmotores_test\u001b[0m \u001b[0;34m+\u001b[0m \u001b[0mmodelo\u001b[0m\u001b[0;34m.\u001b[0m\u001b[0mintercept_\u001b[0m\u001b[0;34m[\u001b[0m\u001b[0;36m0\u001b[0m\u001b[0;34m]\u001b[0m\u001b[0;34m,\u001b[0m \u001b[0;34m'-r'\u001b[0m\u001b[0;34m)\u001b[0m\u001b[0;34m\u001b[0m\u001b[0;34m\u001b[0m\u001b[0m\n\u001b[1;32m      3\u001b[0m \u001b[0mplt\u001b[0m\u001b[0;34m.\u001b[0m\u001b[0mxlabel\u001b[0m\u001b[0;34m(\u001b[0m\u001b[0;34m\"Emissão de CO2\"\u001b[0m\u001b[0;34m)\u001b[0m\u001b[0;34m\u001b[0m\u001b[0;34m\u001b[0m\u001b[0m\n\u001b[1;32m      4\u001b[0m \u001b[0mplt\u001b[0m\u001b[0;34m.\u001b[0m\u001b[0mxlabel\u001b[0m\u001b[0;34m(\u001b[0m\u001b[0;34m\"Motores\"\u001b[0m\u001b[0;34m)\u001b[0m\u001b[0;34m\u001b[0m\u001b[0;34m\u001b[0m\u001b[0m\n\u001b[1;32m      5\u001b[0m \u001b[0mplt\u001b[0m\u001b[0;34m.\u001b[0m\u001b[0mshow\u001b[0m\u001b[0;34m(\u001b[0m\u001b[0;34m)\u001b[0m\u001b[0;34m\u001b[0m\u001b[0;34m\u001b[0m\u001b[0m\n",
            "\u001b[0;31mNameError\u001b[0m: name 'plt' is not defined"
          ]
        }
      ]
    },
    {
      "cell_type": "markdown",
      "source": [
        "\n",
        "Metricas\n",
        "---\n",
        "\n"
      ],
      "metadata": {
        "id": "VWSeAhUkXbIg"
      }
    },
    {
      "cell_type": "code",
      "source": [
        "print(\"Soma dos Erros ao Quadrado (SSE): %2.f \" % np.sum((predicoesCo2 - co2_teste)**2))\n",
        "print(\"Erro Quadrático Médio (MSE): %.2f\" % mean_squared_error(co2_teste, predicoesCo2))\n",
        "print(\"Erro Médio Absoluto (MAE): %.2f\" % mean_absolute_error(co2_teste, predicoesCo2))\n",
        "print (\"Raiz do Erro Quadrático Médio (RMSE): %.2f \" % sqrt(mean_squared_error(co2_teste, predicoesCo2)))\n",
        "print(\"R2-score: %.2f\" % r2_score(predicoesCo2 , co2_teste) )"
      ],
      "metadata": {
        "colab": {
          "base_uri": "https://localhost:8080/",
          "height": 211
        },
        "id": "PYpIARtWYKO0",
        "outputId": "f11f2908-d93c-4545-bd1e-a43fee1c0a7c"
      },
      "execution_count": null,
      "outputs": [
        {
          "output_type": "error",
          "ename": "NameError",
          "evalue": "name 'np' is not defined",
          "traceback": [
            "\u001b[0;31m---------------------------------------------------------------------------\u001b[0m",
            "\u001b[0;31mNameError\u001b[0m                                 Traceback (most recent call last)",
            "\u001b[0;32m<ipython-input-1-2768e8ea7f1d>\u001b[0m in \u001b[0;36m<cell line: 1>\u001b[0;34m()\u001b[0m\n\u001b[0;32m----> 1\u001b[0;31m \u001b[0mprint\u001b[0m\u001b[0;34m(\u001b[0m\u001b[0;34m\"Soma dos Erros ao Quadrado (SSE): %2.f \"\u001b[0m \u001b[0;34m%\u001b[0m \u001b[0mnp\u001b[0m\u001b[0;34m.\u001b[0m\u001b[0msum\u001b[0m\u001b[0;34m(\u001b[0m\u001b[0;34m(\u001b[0m\u001b[0mpredicoesCo2\u001b[0m \u001b[0;34m-\u001b[0m \u001b[0mco2_teste\u001b[0m\u001b[0;34m)\u001b[0m\u001b[0;34m**\u001b[0m\u001b[0;36m2\u001b[0m\u001b[0;34m)\u001b[0m\u001b[0;34m)\u001b[0m\u001b[0;34m\u001b[0m\u001b[0;34m\u001b[0m\u001b[0m\n\u001b[0m\u001b[1;32m      2\u001b[0m \u001b[0mprint\u001b[0m\u001b[0;34m(\u001b[0m\u001b[0;34m\"Erro Quadrático Médio (MSE): %.2f\"\u001b[0m \u001b[0;34m%\u001b[0m \u001b[0mmean_squared_error\u001b[0m\u001b[0;34m(\u001b[0m\u001b[0mco2_teste\u001b[0m\u001b[0;34m,\u001b[0m \u001b[0mpredicoesCo2\u001b[0m\u001b[0;34m)\u001b[0m\u001b[0;34m)\u001b[0m\u001b[0;34m\u001b[0m\u001b[0;34m\u001b[0m\u001b[0m\n\u001b[1;32m      3\u001b[0m \u001b[0mprint\u001b[0m\u001b[0;34m(\u001b[0m\u001b[0;34m\"Erro Médio Absoluto (MAE): %.2f\"\u001b[0m \u001b[0;34m%\u001b[0m \u001b[0mmean_absolute_error\u001b[0m\u001b[0;34m(\u001b[0m\u001b[0mco2_teste\u001b[0m\u001b[0;34m,\u001b[0m \u001b[0mpredicoesCo2\u001b[0m\u001b[0;34m)\u001b[0m\u001b[0;34m)\u001b[0m\u001b[0;34m\u001b[0m\u001b[0;34m\u001b[0m\u001b[0m\n\u001b[1;32m      4\u001b[0m \u001b[0mprint\u001b[0m \u001b[0;34m(\u001b[0m\u001b[0;34m\"Raiz do Erro Quadrático Médio (RMSE): %.2f \"\u001b[0m \u001b[0;34m%\u001b[0m \u001b[0msqrt\u001b[0m\u001b[0;34m(\u001b[0m\u001b[0mmean_squared_error\u001b[0m\u001b[0;34m(\u001b[0m\u001b[0mco2_teste\u001b[0m\u001b[0;34m,\u001b[0m \u001b[0mpredicoesCo2\u001b[0m\u001b[0;34m)\u001b[0m\u001b[0;34m)\u001b[0m\u001b[0;34m)\u001b[0m\u001b[0;34m\u001b[0m\u001b[0;34m\u001b[0m\u001b[0m\n\u001b[1;32m      5\u001b[0m \u001b[0mprint\u001b[0m\u001b[0;34m(\u001b[0m\u001b[0;34m\"R2-score: %.2f\"\u001b[0m \u001b[0;34m%\u001b[0m \u001b[0mr2_score\u001b[0m\u001b[0;34m(\u001b[0m\u001b[0mpredicoesCo2\u001b[0m \u001b[0;34m,\u001b[0m \u001b[0mco2_teste\u001b[0m\u001b[0;34m)\u001b[0m \u001b[0;34m)\u001b[0m\u001b[0;34m\u001b[0m\u001b[0;34m\u001b[0m\u001b[0m\n",
            "\u001b[0;31mNameError\u001b[0m: name 'np' is not defined"
          ]
        }
      ]
    }
  ]
}